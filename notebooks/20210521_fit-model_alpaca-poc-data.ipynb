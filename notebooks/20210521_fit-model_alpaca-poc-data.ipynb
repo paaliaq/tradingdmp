{
 "cells": [
  {
   "cell_type": "markdown",
   "metadata": {},
   "source": [
    "# Purpose\n",
    "\n",
    "The purpose of this notebook is to illustrate how the data from `data.app_data.DataAlpacaPocCat` can be used for training a classification model."
   ]
  },
  {
   "cell_type": "code",
   "execution_count": 1,
   "metadata": {},
   "outputs": [],
   "source": [
    "import os\n",
    "import sys\n",
    "import pandas as pd\n",
    "import numpy as np\n",
    "import datetime\n",
    "import pymongo\n",
    "from sklearn.metrics import confusion_matrix, classification_report, accuracy_score, f1_score\n",
    "from sklearn.model_selection import train_test_split\n",
    "from sklearn.dummy import DummyClassifier\n",
    "from sklearn.linear_model import LogisticRegression\n",
    "from sklearn.preprocessing import OneHotEncoder\n",
    "from sklearn.pipeline import Pipeline\n",
    "from supervised.automl import AutoML\n",
    "import json\n",
    "\n",
    "sys.path.append(\"../src/\")\n",
    "from tradingdmp.data.clf.price_perc_chg.app_data import DataAlpacaPocCat\n",
    "from tradingdmp.model.clf.app_model import MljarAutoMl"
   ]
  },
  {
   "cell_type": "code",
   "execution_count": 2,
   "metadata": {},
   "outputs": [],
   "source": [
    "pd.set_option('display.max_columns', None)\n",
    "from IPython.core.interactiveshell import InteractiveShell\n",
    "InteractiveShell.ast_node_interactivity = \"all\""
   ]
  },
  {
   "cell_type": "code",
   "execution_count": 3,
   "metadata": {},
   "outputs": [],
   "source": [
    "mongodbkey = \"\" # PUT YOUR KEY HERE"
   ]
  },
  {
   "cell_type": "markdown",
   "metadata": {},
   "source": [
    "# Functions"
   ]
  },
  {
   "cell_type": "markdown",
   "metadata": {},
   "source": [
    "# Get data with cache"
   ]
  },
  {
   "cell_type": "code",
   "execution_count": 4,
   "metadata": {},
   "outputs": [],
   "source": [
    "# Load model config data\n",
    "with open(\"config_model.json\") as f:\n",
    "    data = json.load(f)\n",
    "\n",
    "    test_size = data[\"test_size\"]\n",
    "\n",
    "    dt_start = data[\"dt_start\"]\n",
    "    dt_end = data[\"dt_end\"]\n",
    "    ticker_list = data[\"ticker_list\"]\n",
    "    n_ppc_per_row = data[\"n_ppc_per_row\"]\n",
    "\n",
    "    mode = data[\"mode\"]\n",
    "    eval_metric = data[\"eval_metric\"]\n",
    "    total_time_limit = data[\"total_time_limit\"]\n",
    "    algorithms = data[\"algorithms\"]"
   ]
  },
  {
   "cell_type": "code",
   "execution_count": 5,
   "metadata": {},
   "outputs": [],
   "source": [
    "adata = DataAlpacaPocCat(mongodbkey)\n",
    "df_x, df_y = adata.get_data_cached(\n",
    "        ticker_list,\n",
    "        datetime.datetime.strptime(dt_start, \"%Y-%m-%d\"),\n",
    "        datetime.datetime.strptime(dt_end, \"%Y-%m-%d\"),\n",
    "        dt_end_required=True,\n",
    "        n_ppc_per_row=n_ppc_per_row,\n",
    "        return_last_date_only=False,\n",
    "        return_date_col=True,\n",
    "        return_training_dfs=True,\n",
    "    )"
   ]
  },
  {
   "cell_type": "code",
   "execution_count": null,
   "metadata": {},
   "outputs": [],
   "source": []
  }
 ],
 "metadata": {
  "kernelspec": {
   "display_name": "Python 3",
   "language": "python",
   "name": "python3"
  },
  "language_info": {
   "codemirror_mode": {
    "name": "ipython",
    "version": 3
   },
   "file_extension": ".py",
   "mimetype": "text/x-python",
   "name": "python",
   "nbconvert_exporter": "python",
   "pygments_lexer": "ipython3",
   "version": "3.8.3"
  }
 },
 "nbformat": 4,
 "nbformat_minor": 4
}
